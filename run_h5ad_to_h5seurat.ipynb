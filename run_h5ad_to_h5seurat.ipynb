{
 "cells": [
  {
   "cell_type": "code",
   "execution_count": 11,
   "id": "a64cc88e",
   "metadata": {
    "scrolled": false
   },
   "outputs": [
    {
     "name": "stderr",
     "output_type": "stream",
     "text": [
      "Registered S3 method overwritten by 'SeuratDisk':\n",
      "  method            from  \n",
      "  as.sparse.H5Group Seurat\n",
      "\n",
      "\n",
      "Attaching package: ‘SeuratDisk’\n",
      "\n",
      "\n",
      "The following object is masked from ‘package:loomR’:\n",
      "\n",
      "    loom\n",
      "\n",
      "\n"
     ]
    }
   ],
   "source": [
    "library(loomR)\n",
    "library(SeuratData)\n",
    "library(scater)\n",
    "library(Seurat)\n",
    "library(patchwork)\n",
    "library(SeuratDisk)"
   ]
  },
  {
   "cell_type": "code",
   "execution_count": 16,
   "id": "0d338530",
   "metadata": {},
   "outputs": [
    {
     "name": "stderr",
     "output_type": "stream",
     "text": [
      "Warning message:\n",
      "“Unknown file type: h5ad”\n",
      "Warning message:\n",
      "“'assay' not set, setting to 'RNA'”\n",
      "Creating h5Seurat file for version 3.1.5.9900\n",
      "\n",
      "Adding X as data\n",
      "\n",
      "Adding X as counts\n",
      "\n",
      "Adding meta.features from var\n",
      "\n",
      "Adding X_pca as cell embeddings for pca\n",
      "\n",
      "Adding X_pca_harmony as cell embeddings for pca_harmony\n",
      "\n",
      "Adding X_umap as cell embeddings for umap\n",
      "\n"
     ]
    }
   ],
   "source": [
    "Convert(\"datasets/Haniffa_PBMC/64e9c613-d6fe-441e-bd84-2697b4026e9c/covid_portal.h5ad\", dest = \"h5seurat\", overwrite = TRUE)"
   ]
  },
  {
   "cell_type": "code",
   "execution_count": 17,
   "id": "c3d54aa3",
   "metadata": {},
   "outputs": [
    {
     "name": "stderr",
     "output_type": "stream",
     "text": [
      "Validating h5Seurat file\n",
      "\n",
      "Warning message:\n",
      "“Feature names cannot have underscores ('_'), replacing with dashes ('-')”\n",
      "Initializing RNA with data\n",
      "\n",
      "Adding counts for RNA\n",
      "\n",
      "Adding feature-level metadata for RNA\n",
      "\n",
      "Adding reduction pca\n",
      "\n",
      "Adding cell embeddings for pca\n",
      "\n",
      "Adding miscellaneous information for pca\n",
      "\n",
      "Adding reduction pca_harmony\n",
      "\n",
      "Adding cell embeddings for pca_harmony\n",
      "\n",
      "Adding miscellaneous information for pca_harmony\n",
      "\n",
      "Warning message:\n",
      "“Cannot add objects with duplicate keys (offending key: PC_), setting key to 'pca_harmony_'”\n",
      "Adding reduction umap\n",
      "\n",
      "Adding cell embeddings for umap\n",
      "\n",
      "Adding miscellaneous information for umap\n",
      "\n",
      "Adding command information\n",
      "\n",
      "Adding cell-level metadata\n",
      "\n"
     ]
    },
    {
     "ename": "ERROR",
     "evalue": "Error: Too many values for levels provided\n",
     "output_type": "error",
     "traceback": [
      "Error: Too many values for levels provided\nTraceback:\n",
      "1. LoadH5Seurat(file = \"datasets/Haniffa_PBMC/64e9c613-d6fe-441e-bd84-2697b4026e9c/covid_portal.h5seurat\")",
      "2. LoadH5Seurat.character(file = \"datasets/Haniffa_PBMC/64e9c613-d6fe-441e-bd84-2697b4026e9c/covid_portal.h5seurat\")",
      "3. LoadH5Seurat(file = hfile, assays = assays, reductions = reductions, \n .     graphs = graphs, neighbors = neighbors, images = images, \n .     meta.data = meta.data, commands = commands, misc = misc, \n .     tools = tools, verbose = verbose, ...)",
      "4. LoadH5Seurat.h5Seurat(file = hfile, assays = assays, reductions = reductions, \n .     graphs = graphs, neighbors = neighbors, images = images, \n .     meta.data = meta.data, commands = commands, misc = misc, \n .     tools = tools, verbose = verbose, ...)",
      "5. as.Seurat(x = file, assays = assays, reductions = reductions, \n .     graphs = graphs, neighbors = neighbors, images = images, \n .     meta.data = meta.data, commands = commands, misc = misc, \n .     tools = tools, verbose = verbose, ...)",
      "6. as.Seurat.h5Seurat(x = file, assays = assays, reductions = reductions, \n .     graphs = graphs, neighbors = neighbors, images = images, \n .     meta.data = meta.data, commands = commands, misc = misc, \n .     tools = tools, verbose = verbose, ...)",
      "7. as.data.frame(x = x[[\"meta.data\"]], row.names = Cells(x = x))",
      "8. as.data.frame.H5Group(x = x[[\"meta.data\"]], row.names = Cells(x = x))",
      "9. as.factor(x = x[[i]])",
      "10. as.factor(x = x[[i]])",
      "11. stop(\"Too many values for levels provided\", call. = FALSE)"
     ]
    }
   ],
   "source": [
    "so <- LoadH5Seurat(file = \"datasets/Haniffa_PBMC/64e9c613-d6fe-441e-bd84-2697b4026e9c/covid_portal.h5seurat\")\n",
    "so"
   ]
  }
 ],
 "metadata": {
  "kernelspec": {
   "display_name": "R",
   "language": "R",
   "name": "ir"
  },
  "language_info": {
   "codemirror_mode": "r",
   "file_extension": ".r",
   "mimetype": "text/x-r-source",
   "name": "R",
   "pygments_lexer": "r",
   "version": "4.0.5"
  }
 },
 "nbformat": 4,
 "nbformat_minor": 5
}
